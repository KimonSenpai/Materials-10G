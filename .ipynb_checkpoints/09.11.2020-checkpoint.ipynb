{
 "cells": [
  {
   "cell_type": "code",
   "execution_count": 2,
   "metadata": {},
   "outputs": [
    {
     "name": "stdout",
     "output_type": "stream",
     "text": [
      "Hello world\n"
     ]
    }
   ],
   "source": [
    "print(\"Hello world\")"
   ]
  },
  {
   "cell_type": "code",
   "execution_count": 5,
   "metadata": {},
   "outputs": [
    {
     "name": "stdout",
     "output_type": "stream",
     "text": [
      "3.141592653589793\n"
     ]
    }
   ],
   "source": [
    "import math as m\n",
    "print(m.acos(-1))"
   ]
  },
  {
   "cell_type": "code",
   "execution_count": 8,
   "metadata": {},
   "outputs": [
    {
     "name": "stdout",
     "output_type": "stream",
     "text": [
      "[1, 2, 3]\n",
      "[1, 2, 12]\n"
     ]
    }
   ],
   "source": [
    "arr = [1, 2, 3]\n",
    "print(arr)\n",
    "arr[2] = 12\n",
    "print(arr)"
   ]
  },
  {
   "cell_type": "code",
   "execution_count": 14,
   "metadata": {},
   "outputs": [
    {
     "name": "stdout",
     "output_type": "stream",
     "text": [
      "[13, 2, 13]\n"
     ]
    }
   ],
   "source": [
    "arr[-3] = 13\n",
    "print(arr)"
   ]
  },
  {
   "cell_type": "code",
   "execution_count": 16,
   "metadata": {},
   "outputs": [
    {
     "name": "stdout",
     "output_type": "stream",
     "text": [
      "[13, 2, 13, 13, 2, 13, 13, 2, 13, 13, 2, 13]\n",
      "[13, 2, 13, 13, 2, 13, 13, 2, 13, 13, 2, 13, 13, 2, 13, 13, 2, 13, 13, 2, 13, 13, 2, 13, 13, 2, 13, 13, 2, 13, 13, 2, 13, 13, 2, 13, 13, 2, 13, 13, 2, 13, 13, 2, 13, 13, 2, 13, 13, 2, 13, 13, 2, 13, 13, 2, 13, 13, 2, 13, 13, 2, 13, 13, 2, 13, 13, 2, 13, 13, 2, 13, 13, 2, 13, 13, 2, 13, 13, 2, 13, 13, 2, 13, 13, 2, 13, 13, 2, 13, 13, 2, 13, 13, 2, 13, 13, 2, 13, 13, 2, 13, 13, 2, 13, 13, 2, 13, 13, 2, 13, 13, 2, 13, 13, 2, 13, 13, 2, 13, 13, 2, 13, 13, 2, 13, 13, 2, 13, 13, 2, 13, 13, 2, 13, 13, 2, 13, 13, 2, 13, 13, 2, 13, 13, 2, 13, 13, 2, 13, 13, 2, 13, 13, 2, 13, 13, 2, 13, 13, 2, 13, 13, 2, 13, 13, 2, 13, 13, 2, 13, 13, 2, 13, 13, 2, 13, 13, 2, 13, 13, 2, 13, 13, 2, 13, 13, 2, 13, 13, 2, 13, 13, 2, 13, 13, 2, 13, 13, 2, 13, 13, 2, 13, 13, 2, 13, 13, 2, 13, 13, 2, 13, 13, 2, 13, 13, 2, 13, 13, 2, 13, 13, 2, 13, 13, 2, 13, 13, 2, 13, 13, 2, 13, 13, 2, 13, 13, 2, 13]\n"
     ]
    }
   ],
   "source": [
    "n = 20\n",
    "arr = arr + arr\n",
    "print(arr)\n",
    "arr = arr*n\n",
    "print(arr)"
   ]
  },
  {
   "cell_type": "code",
   "execution_count": 17,
   "metadata": {},
   "outputs": [
    {
     "data": {
      "text/plain": [
       "240"
      ]
     },
     "execution_count": 17,
     "metadata": {},
     "output_type": "execute_result"
    }
   ],
   "source": [
    "len(arr)"
   ]
  },
  {
   "cell_type": "code",
   "execution_count": 18,
   "metadata": {},
   "outputs": [],
   "source": [
    "mas = [0]*20\n"
   ]
  },
  {
   "cell_type": "code",
   "execution_count": 24,
   "metadata": {},
   "outputs": [
    {
     "name": "stdout",
     "output_type": "stream",
     "text": [
      "[[0, 0, 0], [0, 0, 0], [0, 0, 0]]\n",
      "[[3, 0, 0], [0, 0, 0], [0, 0, 0]]\n"
     ]
    }
   ],
   "source": [
    "#print([1, [1,2], [[1], [2]] , 5, \"asd\"])\n",
    "mas = [[0]*3 for i in range(3)]#[[0]*3]*3\n",
    "print(mas)\n",
    "mas[0][0] = 3\n",
    "print(mas)"
   ]
  },
  {
   "cell_type": "code",
   "execution_count": 29,
   "metadata": {},
   "outputs": [
    {
     "name": "stdout",
     "output_type": "stream",
     "text": [
      "1\n",
      "2\n",
      "34\n",
      "4\n",
      "5\n",
      "6\n",
      "0\n",
      "[1, 2, 34, 4, 5, 6]\n",
      "2\n"
     ]
    },
    {
     "data": {
      "text/plain": [
       "5"
      ]
     },
     "execution_count": 29,
     "metadata": {},
     "output_type": "execute_result"
    }
   ],
   "source": [
    "mas = []\n",
    "while True:\n",
    "    a = int(input())\n",
    "    if a == 0:\n",
    "        break\n",
    "    mas += [a]\n",
    "print(mas)\n",
    "print(mas.pop(1))\n",
    "len(mas)"
   ]
  },
  {
   "cell_type": "code",
   "execution_count": 30,
   "metadata": {},
   "outputs": [
    {
     "name": "stdout",
     "output_type": "stream",
     "text": [
      "[1, 34, 4, 5, 6]\n"
     ]
    }
   ],
   "source": [
    "print(mas)"
   ]
  },
  {
   "cell_type": "code",
   "execution_count": 28,
   "metadata": {},
   "outputs": [
    {
     "name": "stdout",
     "output_type": "stream",
     "text": [
      "Help on built-in function pop:\n",
      "\n",
      "pop(index=-1, /) method of builtins.list instance\n",
      "    Remove and return item at index (default last).\n",
      "    \n",
      "    Raises IndexError if list is empty or index is out of range.\n",
      "\n"
     ]
    }
   ],
   "source": [
    "help(mas.pop)"
   ]
  },
  {
   "cell_type": "code",
   "execution_count": 32,
   "metadata": {},
   "outputs": [
    {
     "name": "stdout",
     "output_type": "stream",
     "text": [
      "The Zen of Python, by Tim Peters\n",
      "\n",
      "Beautiful is better than ugly.\n",
      "Explicit is better than implicit.\n",
      "Simple is better than complex.\n",
      "Complex is better than complicated.\n",
      "Flat is better than nested.\n",
      "Sparse is better than dense.\n",
      "Readability counts.\n",
      "Special cases aren't special enough to break the rules.\n",
      "Although practicality beats purity.\n",
      "Errors should never pass silently.\n",
      "Unless explicitly silenced.\n",
      "In the face of ambiguity, refuse the temptation to guess.\n",
      "There should be one-- and preferably only one --obvious way to do it.\n",
      "Although that way may not be obvious at first unless you're Dutch.\n",
      "Now is better than never.\n",
      "Although never is often better than *right* now.\n",
      "If the implementation is hard to explain, it's a bad idea.\n",
      "If the implementation is easy to explain, it may be a good idea.\n",
      "Namespaces are one honking great idea -- let's do more of those!\n"
     ]
    }
   ],
   "source": [
    "import this"
   ]
  },
  {
   "cell_type": "code",
   "execution_count": null,
   "metadata": {},
   "outputs": [],
   "source": []
  }
 ],
 "metadata": {
  "kernelspec": {
   "display_name": "Python 3",
   "language": "python",
   "name": "python3"
  },
  "language_info": {
   "codemirror_mode": {
    "name": "ipython",
    "version": 3
   },
   "file_extension": ".py",
   "mimetype": "text/x-python",
   "name": "python",
   "nbconvert_exporter": "python",
   "pygments_lexer": "ipython3",
   "version": "3.7.6"
  }
 },
 "nbformat": 4,
 "nbformat_minor": 4
}
