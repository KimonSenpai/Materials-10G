{
 "cells": [
  {
   "cell_type": "code",
   "execution_count": null,
   "metadata": {},
   "outputs": [],
   "source": [
    "def BinSearch(mas, beg, end, val):\n",
    "    l = end - beg\n",
    "    if l == 1: return mas[beg] == val\n",
    "    \n",
    "    mid = beg + l//2\n",
    "    if val < mas[mid]:\n",
    "        return BinSearch(mas, beg, mid, val)\n",
    "    else: \n",
    "        return BinSearch(mas, mid, end, val)\n",
    "s = BinSearch\n",
    "if s:\n",
    "    print('YES')\n",
    "else:\n",
    "    print('NO')\n"
   ]
  },
  {
   "cell_type": "code",
   "execution_count": 12,
   "metadata": {},
   "outputs": [
    {
     "name": "stdout",
     "output_type": "stream",
     "text": [
      "3.141592653589793\n"
     ]
    }
   ],
   "source": [
    "\n",
    "def BinSearch(l, r, f, eps):\n",
    "    mid = (l + r)/2\n",
    "    if r - l < 2*eps: return mid\n",
    "    if f(l)*f(mid) < 0:\n",
    "        return BinSearch(l, mid, f, eps)\n",
    "    else:\n",
    "        return BinSearch(mid, r, f, eps)\n",
    "#from decimal import Decimal\n",
    "from math import sin\n",
    "print(BinSearch(3, 4, sin, 10**(-15.4)))"
   ]
  },
  {
   "cell_type": "code",
   "execution_count": 12,
   "metadata": {},
   "outputs": [
    {
     "name": "stdout",
     "output_type": "stream",
     "text": [
      "2\n",
      "0\n",
      "3\n",
      "0\n",
      "4\n",
      "3\n",
      "5\n",
      "0\n",
      "6\n",
      "5\n",
      "7\n",
      "6\n",
      "8\n",
      "7\n",
      "\n"
     ]
    }
   ],
   "source": [
    "def BinSearch(l, r, f):\n",
    "    mid = (l + r)//2\n",
    "    if r - l <= 1: return l\n",
    "    if f(mid) > 0:\n",
    "        return BinSearch(l, mid, f)\n",
    "    else:\n",
    "        return BinSearch(mid, r, f)\n",
    "    \n",
    "while True:\n",
    "    try:\n",
    "        s = input()\n",
    "    except(a):\n",
    "        break\n",
    "        \n",
    "    if s == None or s == '': break\n",
    "    s = int(s)\n",
    "    print(int(BinSearch(0, s, lambda x: s - x*x)))"
   ]
  },
  {
   "cell_type": "code",
   "execution_count": 7,
   "metadata": {},
   "outputs": [
    {
     "data": {
      "text/plain": [
       "[3, 4, 5]"
      ]
     },
     "execution_count": 7,
     "metadata": {},
     "output_type": "execute_result"
    }
   ],
   "source": [
    "list(range(3, 6))"
   ]
  },
  {
   "cell_type": "code",
   "execution_count": 14,
   "metadata": {},
   "outputs": [
    {
     "data": {
      "text/plain": [
       "1e-12"
      ]
     },
     "execution_count": 14,
     "metadata": {},
     "output_type": "execute_result"
    }
   ],
   "source": [
    "10.0**(-12)"
   ]
  },
  {
   "cell_type": "code",
   "execution_count": 2,
   "metadata": {},
   "outputs": [],
   "source": [
    "import array as ar\n"
   ]
  },
  {
   "cell_type": "code",
   "execution_count": 12,
   "metadata": {},
   "outputs": [
    {
     "data": {
      "text/plain": [
       "array('i', [1, 2, 3, 4])"
      ]
     },
     "execution_count": 12,
     "metadata": {},
     "output_type": "execute_result"
    }
   ],
   "source": [
    "a = [1, 3, 2, 4]\n",
    "a = ar.array('i', sorted(a))\n"
   ]
  },
  {
   "cell_type": "code",
   "execution_count": 15,
   "metadata": {},
   "outputs": [
    {
     "name": "stdout",
     "output_type": "stream",
     "text": [
      "5\n",
      "10 1 10 3 4\n",
      "4\n",
      "1 10\n",
      "2 9\n",
      "3 4\n",
      "2 2\n",
      "2 2 0 0\n"
     ]
    }
   ],
   "source": [
    "n = int(input())\n",
    "lst = list(map(int, input().split()))\n",
    "lst.sort()\n",
    "\n",
    "def find(mas, a, b, val, eq = False):\n",
    "    if mas[a] > val or mas[a] == val and eq:\n",
    "        return a\n",
    "\tif b-a <= 1:\n",
    "\t\treturn b \n",
    "\tmid = a + (b-a)//2\n",
    "\tif mas[mid] < val or mas[mid] == val and eq:\n",
    "\t\treturn find(mas, mid, b, val, eq)\n",
    "\treturn find(mas, a, mid, val, eq)\n",
    "\n",
    "m = int(input())\n",
    "res = []\n",
    "for i in range(m):\n",
    "\tl, r = map(int, input().split())\n",
    "\tres += [find(lst, 0, n, r, True) - find(lst, 0, n, l, False)]\n",
    "print(*res)"
   ]
  }
 ],
 "metadata": {
  "kernelspec": {
   "display_name": "Python 3",
   "language": "python",
   "name": "python3"
  },
  "language_info": {
   "codemirror_mode": {
    "name": "ipython",
    "version": 3
   },
   "file_extension": ".py",
   "mimetype": "text/x-python",
   "name": "python",
   "nbconvert_exporter": "python",
   "pygments_lexer": "ipython3",
   "version": "3.7.6"
  }
 },
 "nbformat": 4,
 "nbformat_minor": 4
}
