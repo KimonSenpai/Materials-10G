{
 "cells": [
  {
   "cell_type": "code",
   "execution_count": null,
   "metadata": {},
   "outputs": [],
   "source": [
    "def BinSearch(mas, beg, end, val):\n",
    "    l = end - beg\n",
    "    if l == 1: return mas[beg] == val\n",
    "    \n",
    "    mid = beg + l//2\n",
    "    if val < mas[mid]:\n",
    "        return BinSearch(mas, beg, mid, val)\n",
    "    else: \n",
    "        return BinSearch(mas, mid, end, val)"
   ]
  },
  {
   "cell_type": "code",
   "execution_count": 12,
   "metadata": {},
   "outputs": [
    {
     "name": "stdout",
     "output_type": "stream",
     "text": [
      "3.141592653589793\n"
     ]
    }
   ],
   "source": [
    "\n",
    "def BinSearch(l, r, f, eps):\n",
    "    mid = (l + r)/2\n",
    "    if r - l < 2*eps: return mid\n",
    "    if f(l)*f(mid) < 0:\n",
    "        return BinSearch(l, mid, f, eps)\n",
    "    else:\n",
    "        return BinSearch(mid, r, f, eps)\n",
    "#from decimal import Decimal\n",
    "from math import sin\n",
    "print(BinSearch(3, 4, sin, 10**(-15.4)))"
   ]
  }
 ],
 "metadata": {
  "kernelspec": {
   "display_name": "Python 3",
   "language": "python",
   "name": "python3"
  },
  "language_info": {
   "codemirror_mode": {
    "name": "ipython",
    "version": 3
   },
   "file_extension": ".py",
   "mimetype": "text/x-python",
   "name": "python",
   "nbconvert_exporter": "python",
   "pygments_lexer": "ipython3",
   "version": "3.7.6"
  }
 },
 "nbformat": 4,
 "nbformat_minor": 4
}
