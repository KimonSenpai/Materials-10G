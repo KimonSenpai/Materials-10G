{
 "cells": [
  {
   "cell_type": "code",
   "execution_count": 1,
   "metadata": {},
   "outputs": [
    {
     "name": "stdout",
     "output_type": "stream",
     "text": [
      "400\n"
     ]
    }
   ],
   "source": [
    "def sqr(a):\n",
    "    res = a**2\n",
    "    return res\n",
    "\n",
    "\n",
    "print(sqr(20))"
   ]
  },
  {
   "cell_type": "code",
   "execution_count": 2,
   "metadata": {},
   "outputs": [
    {
     "name": "stdout",
     "output_type": "stream",
     "text": [
      "8\n"
     ]
    }
   ],
   "source": [
    "def add(a, b):\n",
    "    return a + b\n",
    "\n",
    "print(add(3, 5))"
   ]
  },
  {
   "cell_type": "code",
   "execution_count": 6,
   "metadata": {
    "scrolled": true
   },
   "outputs": [
    {
     "name": "stdout",
     "output_type": "stream",
     "text": [
      "None\n"
     ]
    }
   ],
   "source": [
    "def power(a, b):\n",
    "    if a < 0 or a==0 and b <= 0:\n",
    "        return None\n",
    "    return a**b\n",
    "\n",
    "print(power(0, -5))"
   ]
  },
  {
   "cell_type": "code",
   "execution_count": 7,
   "metadata": {},
   "outputs": [
    {
     "name": "stdout",
     "output_type": "stream",
     "text": [
      "11\n"
     ]
    }
   ],
   "source": [
    "def isPrime(val):\n",
    "    for i in range(2, int(val**0.5) + 1):\n",
    "        if val % i == 0:\n",
    "            return False\n",
    "    \n",
    "    return True\n",
    "\n",
    "def nextPrime(val):\n",
    "    while True:\n",
    "        val += 1\n",
    "        if isPrime(val):\n",
    "            return val\n",
    "    \n",
    "print(nextPrime(8))"
   ]
  },
  {
   "cell_type": "code",
   "execution_count": 15,
   "metadata": {},
   "outputs": [
    {
     "data": {
      "text/plain": [
       "5"
      ]
     },
     "execution_count": 15,
     "metadata": {},
     "output_type": "execute_result"
    }
   ],
   "source": [
    "def Len(val):\n",
    "    if val == 0: return 1\n",
    "    counter = 0\n",
    "    if val < 0: val = -val\n",
    "    while val > 0:\n",
    "        val //= 10\n",
    "        counter += 1\n",
    "    return counter\n",
    "\n",
    "Len(48679)"
   ]
  },
  {
   "cell_type": "code",
   "execution_count": 2,
   "metadata": {},
   "outputs": [
    {
     "data": {
      "text/plain": [
       "2698759"
      ]
     },
     "execution_count": 2,
     "metadata": {},
     "output_type": "execute_result"
    }
   ],
   "source": [
    "def rev(val):\n",
    "    res = 0\n",
    "    while val > 0:\n",
    "        dig = val % 10\n",
    "        val //= 10\n",
    "        res = res*10 + dig\n",
    "        \n",
    "    return res\n",
    "rev(9578962)"
   ]
  },
  {
   "cell_type": "code",
   "execution_count": 3,
   "metadata": {},
   "outputs": [
    {
     "name": "stdout",
     "output_type": "stream",
     "text": [
      "Help on built-in function count:\n",
      "\n",
      "count(...) method of builtins.str instance\n",
      "    S.count(sub[, start[, end]]) -> int\n",
      "    \n",
      "    Return the number of non-overlapping occurrences of substring sub in\n",
      "    string S[start:end].  Optional arguments start and end are\n",
      "    interpreted as in slice notation.\n",
      "\n"
     ]
    }
   ],
   "source": [
    "help(''.count)"
   ]
  },
  {
   "cell_type": "code",
   "execution_count": null,
   "metadata": {},
   "outputs": [],
   "source": [
    "def Pow(a, b):\n",
    "    if b == 0: return 1\n",
    "    res = Pow(a*a, b//2)\n",
    "    if b%2 == 1:\n",
    "        res *= a\n",
    "    return res\n",
    "\n",
    "def GCD(a, b):\n",
    "    if a == 0: return b\n",
    "    return GCD(b%a, a)\n"
   ]
  },
  {
   "cell_type": "code",
   "execution_count": 1,
   "metadata": {},
   "outputs": [
    {
     "name": "stdout",
     "output_type": "stream",
     "text": [
      "3.141592653642874\n"
     ]
    }
   ],
   "source": [
    "from math import sin\n",
    "def search(a, b, eps):\n",
    "    mid = (a + b)/2\n",
    "    if b - a < 2*eps:\n",
    "        return mid\n",
    "    \n",
    "    if sin(a)*sin(mid) < 0:\n",
    "        return search(a, mid, eps)\n",
    "    return search(mid, b, eps)\n",
    "\n",
    "print(search(3, 4, 1e-10))"
   ]
  }
 ],
 "metadata": {
  "kernelspec": {
   "display_name": "Python 3",
   "language": "python",
   "name": "python3"
  },
  "language_info": {
   "codemirror_mode": {
    "name": "ipython",
    "version": 3
   },
   "file_extension": ".py",
   "mimetype": "text/x-python",
   "name": "python",
   "nbconvert_exporter": "python",
   "pygments_lexer": "ipython3",
   "version": "3.7.6"
  }
 },
 "nbformat": 4,
 "nbformat_minor": 4
}
