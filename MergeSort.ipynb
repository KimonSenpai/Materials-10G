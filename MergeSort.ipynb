{
 "cells": [
  {
   "cell_type": "code",
   "execution_count": 2,
   "metadata": {},
   "outputs": [],
   "source": [
    "def merge(mas:list)->list:\n",
    "    if len(mas) == 1:\n",
    "        return mas\n",
    "    n = len(mas)\n",
    "    left = merge(mas[:n//2])\n",
    "    right = merge(mas[n//2:])\n",
    "    res = []\n",
    "    while len(left) != 0 and len(right) != 0:\n",
    "        if left[0] <= right[0]:\n",
    "            res += [left[0]]\n",
    "            left.pop(0)\n",
    "        else:\n",
    "            res += [right[0]]\n",
    "            right.pop(0)\n",
    "            \n",
    "    res += left + right\n",
    "    return res"
   ]
  },
  {
   "cell_type": "code",
   "execution_count": 3,
   "metadata": {},
   "outputs": [
    {
     "name": "stdout",
     "output_type": "stream",
     "text": [
      "[1, 2, 2, 3, 5, 6, 7]\n"
     ]
    }
   ],
   "source": [
    "print(merge([3, 5, 2, 7, 1, 6, 2]))"
   ]
  },
  {
   "cell_type": "code",
   "execution_count": 7,
   "metadata": {},
   "outputs": [],
   "source": [
    "def f(n):\n",
    "    #n = int(input())\n",
    "    dp = [0]*(n+1)\n",
    "    for i in range(2, n+1):\n",
    "        if i%2 == 0:\n",
    "            dp[i] = min(dp[i-1], dp[i//2]) + 1\n",
    "        else:\n",
    "            dp[i] = dp[i-1] + 1\n",
    "    return dp[n]\n"
   ]
  },
  {
   "cell_type": "code",
   "execution_count": 8,
   "metadata": {},
   "outputs": [
    {
     "name": "stdout",
     "output_type": "stream",
     "text": [
      "0 0\n",
      "1 0\n",
      "2 1\n",
      "3 2\n",
      "4 2\n",
      "5 3\n",
      "6 3\n",
      "7 4\n",
      "8 3\n",
      "9 4\n",
      "10 4\n",
      "11 5\n",
      "12 4\n",
      "13 5\n",
      "14 5\n",
      "15 6\n",
      "16 4\n",
      "17 5\n",
      "18 5\n",
      "19 6\n",
      "20 5\n",
      "21 6\n",
      "22 6\n",
      "23 7\n",
      "24 5\n",
      "25 6\n",
      "26 6\n",
      "27 7\n",
      "28 6\n",
      "29 7\n",
      "30 7\n",
      "31 8\n",
      "32 5\n",
      "33 6\n",
      "34 6\n",
      "35 7\n",
      "36 6\n",
      "37 7\n",
      "38 7\n",
      "39 8\n",
      "40 6\n",
      "41 7\n",
      "42 7\n",
      "43 8\n",
      "44 7\n",
      "45 8\n",
      "46 8\n",
      "47 9\n",
      "48 6\n",
      "49 7\n",
      "50 7\n",
      "51 8\n",
      "52 7\n",
      "53 8\n",
      "54 8\n",
      "55 9\n",
      "56 7\n",
      "57 8\n",
      "58 8\n",
      "59 9\n",
      "60 8\n",
      "61 9\n",
      "62 9\n",
      "63 10\n",
      "64 6\n",
      "65 7\n",
      "66 7\n",
      "67 8\n",
      "68 7\n",
      "69 8\n",
      "70 8\n",
      "71 9\n",
      "72 7\n",
      "73 8\n",
      "74 8\n",
      "75 9\n",
      "76 8\n",
      "77 9\n",
      "78 9\n",
      "79 10\n",
      "80 7\n",
      "81 8\n",
      "82 8\n",
      "83 9\n",
      "84 8\n",
      "85 9\n",
      "86 9\n",
      "87 10\n",
      "88 8\n",
      "89 9\n",
      "90 9\n",
      "91 10\n",
      "92 9\n",
      "93 10\n",
      "94 10\n",
      "95 11\n",
      "96 7\n",
      "97 8\n",
      "98 8\n",
      "99 9\n"
     ]
    }
   ],
   "source": [
    "mas = [i for i in range(100)]\n",
    "for v in mas:\n",
    "    print(v, f(v))\n"
   ]
  }
 ],
 "metadata": {
  "kernelspec": {
   "display_name": "Python 3",
   "language": "python",
   "name": "python3"
  },
  "language_info": {
   "codemirror_mode": {
    "name": "ipython",
    "version": 3
   },
   "file_extension": ".py",
   "mimetype": "text/x-python",
   "name": "python",
   "nbconvert_exporter": "python",
   "pygments_lexer": "ipython3",
   "version": "3.7.6"
  }
 },
 "nbformat": 4,
 "nbformat_minor": 4
}
